{
 "cells": [
  {
   "cell_type": "markdown",
   "metadata": {
    "slideshow": {
     "slide_type": "-"
    }
   },
   "source": [
    "# HW1-AutoTrading"
   ]
  },
  {
   "cell_type": "markdown",
   "metadata": {},
   "source": [
    "## Import package"
   ]
  },
  {
   "cell_type": "code",
   "execution_count": 1,
   "metadata": {},
   "outputs": [
    {
     "name": "stderr",
     "output_type": "stream",
     "text": [
      "/home/ddnn_user02/anaconda3/lib/python3.6/site-packages/sklearn/cross_validation.py:41: DeprecationWarning: This module was deprecated in version 0.18 in favor of the model_selection module into which all the refactored classes and functions are moved. Also note that the interface of the new CV iterators are different from that of this module. This module will be removed in 0.20.\n",
      "  \"This module will be removed in 0.20.\", DeprecationWarning)\n"
     ]
    }
   ],
   "source": [
    "import pandas as pd\n",
    "import numpy as np\n",
    "from sklearn.neighbors import KNeighborsRegressor\n",
    "from sklearn.cross_validation import train_test_split"
   ]
  },
  {
   "cell_type": "markdown",
   "metadata": {},
   "source": [
    "## Functions implement\n",
    "- Load .csv files by pandas"
   ]
  },
  {
   "cell_type": "code",
   "execution_count": 2,
   "metadata": {},
   "outputs": [],
   "source": [
    "def load_data(path):\n",
    "    df = pd.read_csv(path, names=['open', 'high', 'low', 'close'])\n",
    "    data = df.values\n",
    "    data[:, 1:] -= data[:, :1]\n",
    "    return data\n"
   ]
  },
  {
   "cell_type": "markdown",
   "metadata": {},
   "source": [
    "## Dataset Building\n",
    "- Store training data and history data"
   ]
  },
  {
   "cell_type": "code",
   "execution_count": 3,
   "metadata": {},
   "outputs": [],
   "source": [
    "class Datasets:\n",
    "    def __init__(self, data, interval=5):\n",
    "        self.data = data\n",
    "        self.interval = interval\n",
    "        self.target_regression = None\n",
    "        self._labeling_regression(data)\n",
    "        self.target_classification = None\n",
    "        self._labeling_classification(data)\n",
    "        \n",
    "    def _labeling_regression(self, data):\n",
    "        n = data.shape[0];\n",
    "        t = np.zeros(n);\n",
    "        for i in range(n):\n",
    "            if i < n - 2:\n",
    "                if i < n - self.interval - 1 :\n",
    "                    x = self.interval\n",
    "                else:\n",
    "                    x = n - i - 2\n",
    "                t[i] = np.mean(data[i + 1:i + x + 1, 0]) - data[i, 0]\n",
    "            elif i == n - 2:\n",
    "                t[i] = data[i + 1, 0] - data[i, 0]\n",
    "                \n",
    "        self.target_regression = t\n",
    "\n",
    "    def _labeling_classification(self, data):\n",
    "        n = data.shape[0];\n",
    "        t = np.zeros((n, 2));\n",
    "        for i in range(n):\n",
    "            if i < n - 2:\n",
    "                if i < n - self.interval - 1 :\n",
    "                    x = self.interval\n",
    "                else:\n",
    "                    x = n - i - 2\n",
    "                t[i, (int) (np.mean(data[i + 1:i + x + 1, 0]) > data[i, 0])] = 1\n",
    "            elif i == n - 2:\n",
    "                t[i, (int) (data[i + 1, 0] > data[i, 0])] = 1\n",
    "            else:\n",
    "                t[i, 1] = 1\n",
    "            \n",
    "        self.target_classification = t\n",
    "    \n",
    "    def add_data(self, data):\n",
    "        tmp = np.zeros((self.data.shape[0] + 1, 4))\n",
    "        tmp[:self.data.shape[0]] = self.data\n",
    "        tmp[self.data.shape[0]] = data\n",
    "        self.data = tmp\n",
    "        self._labeling_regression(self.data)\n",
    "    \n",
    "    def get_batch(self, batch_size, n_steps, regression=True):\n",
    "        rnd = (int) ((self.data.shape[0] - n_steps - batch_size + 1) * np.random.rand())\n",
    "        batch_x = self.data[rnd:rnd + n_steps].reshape(-1)\n",
    "            \n",
    "        for i in range(batch_size - 1):\n",
    "            rnd += 1\n",
    "            batch_x = np.hstack((batch_x, self.data[rnd:rnd + n_steps].reshape(-1)))\n",
    "\n",
    "        batch_x = batch_x.reshape(batch_size, n_steps * 4)\n",
    "   \n",
    "        return batch_x\n",
    "    \n",
    "    def get_last_batch(self, batch_size, n_steps, regression=True):\n",
    "        rnd = (int) (self.data.shape[0] - n_steps - batch_size + 1)\n",
    "        batch_x = self.data[rnd:rnd + n_steps].reshape(-1)\n",
    "            \n",
    "        for i in range(batch_size - 1):\n",
    "            rnd += 1\n",
    "            batch_x = np.hstack((batch_x, self.data[rnd:rnd + n_steps].reshape(-1)))\n",
    "\n",
    "        batch_x = batch_x.reshape(batch_size, n_steps * 4)\n",
    "            \n",
    "        return batch_x"
   ]
  },
  {
   "cell_type": "markdown",
   "metadata": {},
   "source": [
    "## Module Building\n",
    "- Using sklearn.KNeighborsRegressor module\n",
    "\n",
    "- Training Datas are newest 500 vectors\n",
    " - $TrainingData = [v_{n-499}, v_{n-498}, ..., v_{n}]$\n",
    " - where $v_i$ is the vector of the $i$-th day\n",
    "\n",
    "- A vector contain prices of open-high-low-close in past 60 days\n",
    " - $v_{n} = [o_{n-59}, h_{n-59}, l_{n-59}, c_{n-59}, o_{n-58}, h_{n-58}, l_{n-58}, c_{n-58}, ..., o_{n}, h_{n}, l_{n}, c_{n}]$\n",
    " - where $o_i - h_i - l_i - c_i$ are open-high-low-close prices of the $i$-th day\n",
    "\n",
    "- Target of training will predict an average of open prices in future 10 days\n",
    " - $t_{n} = \\frac{1}{10}\\sum_{i=n+1}^{n+11} o_i$\n",
    " \n",
    "- We'll be re-training when each testing data is inputted"
   ]
  },
  {
   "cell_type": "code",
   "execution_count": 4,
   "metadata": {},
   "outputs": [],
   "source": [
    "class Scikit_KNeighborsRegressor:\n",
    "    def __init__(self, data, length=60, interval=10, batch=500):\n",
    "        self.module = None\n",
    "        self.length = length\n",
    "        self.first = True\n",
    "        self.iterator = 0\n",
    "        self.test_data = np.zeros((1, length * 4))\n",
    "        self.stock = 0\n",
    "        self.batch = batch\n",
    "        self.interval = interval\n",
    "        self.store_data = np.zeros((1, (length + interval) * 4))\n",
    "        self.retrain_data = np.zeros((1, length * 4))\n",
    "        self.retrain_target = 0\n",
    "        self.dataset = Datasets(data, interval=interval)\n",
    "    \n",
    "    def _insert_data(self, row):\n",
    "        if self.first:\n",
    "            for i in range(self.dataset.data.shape[0] - self.length, self.dataset.data.shape[0]):\n",
    "                self.test_data[0] = np.hstack((self.dataset.data[i], self.test_data[0, :(self.length - 1) * 4]))\n",
    "            self.test_data[0] = np.hstack((row, self.test_data[0, :(self.length - 1) * 4]))\n",
    "\n",
    "            for i in range(self.length + self.interval):\n",
    "                self.store_data[0, i * 4:i * 4 + 4] = row\n",
    "            self.first = False\n",
    "        else:\n",
    "            self.test_data[0] = np.hstack((row, self.test_data[0, :(self.length - 1) * 4]))\n",
    "            self.store_data[0] = np.hstack((row, self.store_data[0, :(self.length + self.interval - 1) * 4]))\n",
    "        \n",
    "        self.iterator += 1\n",
    "        \n",
    "        self.retrain_data = self.store_data[:, self.interval * 4:]\n",
    "        self.retrain_target = [np.mean(self.store_data[0, ::4][:self.interval])]\n",
    "        \n",
    "    def train(self):\n",
    "        data_x = self.dataset.get_last_batch(5 * self.length, self.length)\n",
    "        data_t = self.dataset.target_regression[self.dataset.target_regression.shape[0] - 5 * self.length:]\n",
    "\n",
    "        train_x, test_x, train_t, test_t = train_test_split(data_x, data_t, random_state=4)\n",
    "        \n",
    "        self.module = KNeighborsRegressor()\n",
    "        self.module.fit(train_x, train_t)\n",
    "        \n",
    "    def predict_action(self, row):\n",
    "        self.dataset.add_data(row)\n",
    "        self._insert_data(row)\n",
    "        pred = self.module.predict(self.test_data)\n",
    "        trade = 0\n",
    "        \n",
    "        if pred[0] > 3 :\n",
    "            ref = 1\n",
    "            if self.stock != 1:\n",
    "                trade = 1\n",
    "        elif pred[0] < -3:\n",
    "            ref = -1\n",
    "            if self.stock != -1:\n",
    "                trade = -1\n",
    "        else:\n",
    "            ref = 0\n",
    "        \n",
    "        self.stock += trade\n",
    "        return trade\n",
    "    \n",
    "    def re_training(self):\n",
    "        if self.batch <= self.dataset.target_regression.shape[0] - self.length + 1:\n",
    "            batch = self.batch\n",
    "        else:\n",
    "            batch = self.dataset.target_regression.shape[0] - self.length + 1\n",
    "            \n",
    "        data_x = self.dataset.get_last_batch(self.batch, self.length)\n",
    "        data_t = self.dataset.target_regression[self.dataset.target_regression.shape[0] - self.batch:]\n",
    "    \n",
    "        train_x, test_x, train_t, test_t = train_test_split(data_x, data_t, random_state=4)\n",
    "        \n",
    "        self.module = KNeighborsRegressor()\n",
    "        self.module.fit(train_x, train_t)\n",
    "        "
   ]
  },
  {
   "cell_type": "markdown",
   "metadata": {},
   "source": [
    "## AutoTrader implement"
   ]
  },
  {
   "cell_type": "code",
   "execution_count": 5,
   "metadata": {},
   "outputs": [],
   "source": [
    "class Trader:\n",
    "    def __init__(self, batch_size=1, n_steps=60):\n",
    "        self.dataset = None\n",
    "        self.batch_size = batch_size\n",
    "        self.n_steps = n_steps\n",
    "        self.module = None\n",
    "        \n",
    "    def train(self, data):\n",
    "        self.module = Scikit_KNeighborsRegressor(data)\n",
    "        self.module.train()\n",
    "\n",
    "    def predict_action(self, row):\n",
    "        return str(self.module.predict_action(row)) + '\\n'\n",
    "    \n",
    "    def re_training(self):\n",
    "        self.module.re_training()\n",
    "        "
   ]
  },
  {
   "cell_type": "markdown",
   "metadata": {
    "slideshow": {
     "slide_type": "subslide"
    }
   },
   "source": [
    "## Main module"
   ]
  },
  {
   "cell_type": "code",
   "execution_count": 6,
   "metadata": {
    "scrolled": false
   },
   "outputs": [
    {
     "name": "stdout",
     "output_type": "stream",
     "text": [
      "total money 146.4425\n",
      "buy_and_hold_strategy 45.0371\n",
      "batter 225.1599 %\n"
     ]
    }
   ],
   "source": [
    "# You can write code above the if-main block.\n",
    "\n",
    "if __name__ == '__main__':\n",
    "    # You should not modify this part.\n",
    "    import argparse\n",
    "    \n",
    "    parser = argparse.ArgumentParser()\n",
    "\n",
    "    parser.add_argument('--training',\n",
    "                       default='training_data.csv',\n",
    "                       help='input training data file name')\n",
    "    parser.add_argument('--testing',\n",
    "                        default='testing_data.csv',\n",
    "                        help='input testing data file name')\n",
    "    parser.add_argument('--output',\n",
    "                        default='output.csv',\n",
    "                        help='output file name')\n",
    "    parser.add_argument('-f',\n",
    "                        default='',\n",
    "                        help='ipython')\n",
    "    args = parser.parse_args()\n",
    "    \n",
    "    # The following part is an example.\n",
    "    # You can modify it at will.\n",
    "    training_data = load_data(args.training)\n",
    "    trader = Trader()\n",
    "    trader.train(training_data)\n",
    "    \n",
    "    testing_data = load_data(args.testing)\n",
    "    \n",
    "    # Show result\n",
    "    buy_and_hold_strategy = testing_data[testing_data.shape[0] - 1, 3] + testing_data[testing_data.shape[0] - 1, 0] - testing_data[1,0]\n",
    "    \n",
    "    i = 1\n",
    "    stock = 0\n",
    "    action = 0\n",
    "    money = 0\n",
    "    # print('i', 'action', 'stock', 'money')\n",
    "    \n",
    "    with open(args.output, 'w') as output_file:\n",
    "        for row in testing_data:\n",
    "            # We will perform your action as the open price in the next day.\n",
    "            money -= int(action) * row[0]\n",
    "            action = trader.predict_action(row)\n",
    "\n",
    "            # Show result\n",
    "            # print(i, int(action), stock, round(money, 4))\n",
    "            stock += int(action)\n",
    "            i += 1\n",
    "\n",
    "            if i <= testing_data.shape[0]:\n",
    "                output_file.write(action)\n",
    "\n",
    "            # this is your option, you can leave it empty.\n",
    "            trader.re_training()\n",
    "\n",
    "    # Show result\n",
    "    money += stock * (testing_data[testing_data.shape[0] - 1, 3] + testing_data[testing_data.shape[0] - 1, 0])\n",
    "    print('total money', round(money, 4))\n",
    "    print('buy_and_hold_strategy', round(buy_and_hold_strategy, 4))\n",
    "    print('batter', round((money - buy_and_hold_strategy) * 100 / buy_and_hold_strategy, 4), '%')\n",
    "        "
   ]
  },
  {
   "cell_type": "markdown",
   "metadata": {},
   "source": [
    "## Conclusion\n",
    "- We use the newest 800 datas for training because maybe the overly older data will make misunderstand\n",
    "- The open price is unsettled in short time, so predict the open price in next day will be difficult and inaccurate\n"
   ]
  }
 ],
 "metadata": {
  "kernelspec": {
   "display_name": "Python 3",
   "language": "python",
   "name": "python3"
  },
  "language_info": {
   "codemirror_mode": {
    "name": "ipython",
    "version": 3
   },
   "file_extension": ".py",
   "mimetype": "text/x-python",
   "name": "python",
   "nbconvert_exporter": "python",
   "pygments_lexer": "ipython3",
   "version": "3.6.4"
  }
 },
 "nbformat": 4,
 "nbformat_minor": 2
}
